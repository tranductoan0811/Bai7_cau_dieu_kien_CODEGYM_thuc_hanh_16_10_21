{
 "cells": [
  {
   "cell_type": "code",
   "execution_count": 2,
   "id": "79786761",
   "metadata": {},
   "outputs": [
    {
     "name": "stdout",
     "output_type": "stream",
     "text": [
      "Nhập số cần kiểm tra6\n",
      "---------------\n",
      "Số nhập vào 6 là số chẵn\n"
     ]
    }
   ],
   "source": [
    "# Đề bài: Kiểm tra số nhập vào là số chẳn hoặc lẻ, sử dụng toán tử điều kiện ba ngôi\n",
    "# (true_expression) if (condition) else (false_expression)\n",
    "\n",
    "# Khởi tạo số nhập vào\n",
    "n = int(input(\"Nhập số cần kiểm tra\"))\n",
    "print(\"---------------\")\n",
    "\n",
    "print(f\"Số nhập vào {n} là số chẵn\") if n % 2 == 0  else print(f\"Số nhập vào {n} là số lẻ\")"
   ]
  },
  {
   "cell_type": "code",
   "execution_count": 5,
   "id": "467af587",
   "metadata": {},
   "outputs": [
    {
     "name": "stdout",
     "output_type": "stream",
     "text": [
      "Nhập số cần kiểm tra6.3\n",
      "---------------\n",
      "Số nhập vào 6.3 không phải số tự nhiên.\n"
     ]
    }
   ],
   "source": [
    "# Kiểm tra số chẵn/lẻ: sử dụng khối lệnh if…elif…else\n",
    "# Sử dụng function: input() để nhập một số bất kì sau đó chuyển kiểu về float. Kiểm tra số nhập vào có chia hết cho 2 hay không?\n",
    "# Nếu chia hết cho 2: số chẵn. Nếu không chia hết cho 2 dư 1: số lẽ. Ngoài ra: không phải số tự nhiên.\n",
    "\n",
    "# Khởi tạo số nhập vào\n",
    "a = float(input(\"Nhập số cần kiểm tra\"))\n",
    "print(\"---------------\")\n",
    "if a % 2 == 0:\n",
    "    print(f\"Số nhập vào {a} là số chẵn.\")\n",
    "elif a % 2 == 1:\n",
    "    print(f\"Số nhập vào {a} là số lẻ.\")\n",
    "else:\n",
    "    print(f\"Số nhập vào {a} không phải số tự nhiên.\")\n"
   ]
  },
  {
   "cell_type": "code",
   "execution_count": 1,
   "id": "336e6764",
   "metadata": {},
   "outputs": [
    {
     "name": "stdout",
     "output_type": "stream",
     "text": [
      "Nhập số thứ tự ngày trong tuần5\n",
      "---------------\n",
      "today is Friday\n"
     ]
    }
   ],
   "source": [
    "# [Bài tập] Hiển thị ngày trong tuần: sử dụng khối lệnh if…elif…else\n",
    "\n",
    "# người dùng nhập một số trong phạm vi từ 1 đến 7. Sau đó hãy in ra ngày tương ứng: \n",
    "# 1: Monday / 2: Tuesday / 3: Wednesday / 4: Thursday / 5: Friday / 6: Saturday / 7: Sunday\n",
    "# Nếu người dùng nhập số ngoài phạm vi từ 1 đến 7 thì hãy in ra “error, out of range”.\n",
    "\n",
    "# Khởi tạo số nhập vào\n",
    "b = int(input(\"Nhập số thứ tự ngày trong tuần\"))\n",
    "\n",
    "print(\"---------------\")\n",
    "if b ==1:\n",
    "    print(\"today is Monday\")\n",
    "elif b ==2:\n",
    "    print(\"today is Tuesday\")\n",
    "elif b ==3:\n",
    "    print(\"today is Wednesday\")\n",
    "elif b ==4:\n",
    "    print(\"today is Thursday\")    \n",
    "elif b ==5:\n",
    "    print(\"today is Friday\")\n",
    "elif b ==6:\n",
    "    print(\"today is Saturday\")    \n",
    "elif b ==7:\n",
    "    print(\"today is Sunday\")\n",
    "else:\n",
    "    print(\"error, out of range.\")"
   ]
  },
  {
   "cell_type": "code",
   "execution_count": 4,
   "id": "db230513",
   "metadata": {},
   "outputs": [
    {
     "name": "stdout",
     "output_type": "stream",
     "text": [
      "Nhập số tiền đơn hàng153.6\n",
      "--------------\n",
      "total money of your order is 153.6\n",
      "discount is 50\n",
      "--------------\n",
      "real payment after deduction of discount is 103.6\n"
     ]
    }
   ],
   "source": [
    "# [Bài tập] Hiển thị thông tin đơn hàng: sử dụng khối lệnh if…elif…else\n",
    "# Hỏi người dùng đã chi bao nhiêu tiền tại cửa hàng.\n",
    "\n",
    "# Nếu họ chi ít hơn 75$, họ sẽ không được giảm giá.\n",
    "# Nếu họ chi 75$ trở lên, họ sẽ được giảm giá 15$.\n",
    "# Nếu người dùng chi từ 100$ trở lên, họ sẽ được giảm giá 25$.\n",
    "# Nếu người dùng chi từ 150$ trở lên, họ sẽ được giảm giá 50$.\n",
    "# Sau đó in ra tổng số tiền mà người dùng phải thanh toán.\n",
    "\n",
    "order_money = float(input(\"Nhập số tiền đơn hàng\"))\n",
    "print(\"--------------\")\n",
    "if order_money <= 75:\n",
    "    discount = 0\n",
    "elif order_money >= 75 and order_money <= 100:\n",
    "    discount = 15\n",
    "elif order_money > 100 and order_money <= 150:\n",
    "    discount = 25\n",
    "else:\n",
    "    discount = 50\n",
    "    \n",
    "payment = order_money - discount\n",
    "\n",
    "print(f\"total money of your order is {order_money:,}\")\n",
    "print(f\"discount is {discount}\")\n",
    "print(\"--------------\")\n",
    "print(f\"real payment after deduction of discount is {payment:,}\")\n"
   ]
  },
  {
   "cell_type": "code",
   "execution_count": 8,
   "id": "b283ba64",
   "metadata": {},
   "outputs": [
    {
     "name": "stdout",
     "output_type": "stream",
     "text": [
      "Nhập chiều cao (m): 1.62\n",
      "Nhập số cân (kg) :70\n",
      "chỉ số BMI của bạn là: 26.67\n",
      "-----------\n",
      "thừa cân\n"
     ]
    }
   ],
   "source": [
    "# [Bài tập] Tính chỉ số cân nặng của cơ thể : sử dụng khối lệnh if…elif…else\n",
    "# BMI = cân nặng / (chiều cao ^ 2)\n",
    "\n",
    "# Nếu BMI > 40: in ra béo phì cấp độ III\n",
    "# Hoặc nếu 35 <= BMI < 40: in ra béo phì cấp độ II\n",
    "# Hoặc nếu 30 <= BMI < 35: in ra béo phì cấp độ I\n",
    "# Hoặc nếu 25 <= BMI < 30: in ra thừa cân\n",
    "# Hoặc nếu 18.5 <= BMI < 25: in ra bình thường\n",
    "# Hoặc nếu 17 <= BMI < 18.5: in ra gầy cấp độ I\n",
    "# Hoặc nếu 16 <= BMI < 17: in ra gầy cấp độ II\n",
    "# Hoặc BMI < 16: in ra gầy cấp độ III\n",
    "\n",
    "height = float(input(\"Nhập chiều cao (m): \"))\n",
    "weight = float(input(\"Nhập số cân (kg) :\"))\n",
    "BMI = round(weight / (height ** 2),2)\n",
    "\n",
    "print(f\"chỉ số BMI của bạn là: {BMI}\")\n",
    "print(\"-----------\")\n",
    "if BMI > 40:\n",
    "    print(\"béo phì cấp độ III\")\n",
    "elif BMI >= 35 and BMI < 40:\n",
    "    print(\"béo phì cấp độ II\")\n",
    "elif BMI >= 30 and BMI < 35:\n",
    "    print(\"béo phì cấp độ I\")\n",
    "elif BMI >= 25 and BMI < 30:\n",
    "    print(\"thừa cân\")\n",
    "elif BMI >= 18.5 and BMI < 25:\n",
    "    print(\"bình thường\")    \n",
    "elif BMI >= 17 and BMI < 18.5:\n",
    "    print(\"gầy cấp độ I\")\n",
    "elif BMI >= 16 and BMI < 17:\n",
    "    print(\"gầy cấp độ II\")\n",
    "elif BMI < 16:\n",
    "    print(\"gầy cấp độ III\")"
   ]
  },
  {
   "cell_type": "code",
   "execution_count": 15,
   "id": "aefe31c8",
   "metadata": {},
   "outputs": [
    {
     "name": "stdout",
     "output_type": "stream",
     "text": [
      "1\n",
      "2\n",
      "4\n"
     ]
    }
   ],
   "source": [
    "if 'bar' in {'foo': 1, 'bar': 2, 'baz': 3}:\n",
    "    print(1)\n",
    "    print(2)\n",
    "    if 'a' in 'qux':\n",
    "        print(3)\n",
    "print(4)"
   ]
  },
  {
   "cell_type": "code",
   "execution_count": null,
   "id": "515310a4",
   "metadata": {},
   "outputs": [],
   "source": [
    "# Hàm isdigit() trong Python trả về true nếu chuỗi chỉ chứa các chữ số, nếu không là false.\n",
    "# Cú pháp: str.isdigit()"
   ]
  }
 ],
 "metadata": {
  "kernelspec": {
   "display_name": "Python 3 (ipykernel)",
   "language": "python",
   "name": "python3"
  },
  "language_info": {
   "codemirror_mode": {
    "name": "ipython",
    "version": 3
   },
   "file_extension": ".py",
   "mimetype": "text/x-python",
   "name": "python",
   "nbconvert_exporter": "python",
   "pygments_lexer": "ipython3",
   "version": "3.9.6"
  }
 },
 "nbformat": 4,
 "nbformat_minor": 5
}
